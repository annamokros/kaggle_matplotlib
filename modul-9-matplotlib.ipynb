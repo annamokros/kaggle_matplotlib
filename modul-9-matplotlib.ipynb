{
 "cells": [
  {
   "cell_type": "code",
   "execution_count": 1,
   "id": "ab83945e",
   "metadata": {
    "_cell_guid": "b1076dfc-b9ad-4769-8c92-a6c4dae69d19",
    "_uuid": "8f2839f25d086af736a60e9eeb907d3b93b6e0e5",
    "execution": {
     "iopub.execute_input": "2023-03-03T19:43:05.290723Z",
     "iopub.status.busy": "2023-03-03T19:43:05.290119Z",
     "iopub.status.idle": "2023-03-03T19:43:05.312861Z",
     "shell.execute_reply": "2023-03-03T19:43:05.311249Z"
    },
    "papermill": {
     "duration": 0.031377,
     "end_time": "2023-03-03T19:43:05.316011",
     "exception": false,
     "start_time": "2023-03-03T19:43:05.284634",
     "status": "completed"
    },
    "tags": []
   },
   "outputs": [
    {
     "name": "stdout",
     "output_type": "stream",
     "text": [
      "/kaggle/input/modul9/tmdb_movies.csv\n",
      "/kaggle/input/modul9/tmdb_genres.csv\n"
     ]
    }
   ],
   "source": [
    "# This Python 3 environment comes with many helpful analytics libraries installed\n",
    "# It is defined by the kaggle/python Docker image: https://github.com/kaggle/docker-python\n",
    "# For example, here's several helpful packages to load\n",
    "\n",
    "import numpy as np # linear algebra\n",
    "import pandas as pd # data processing, CSV file I/O (e.g. pd.read_csv)\n",
    "import matplotlib.pyplot as plt\n",
    "\n",
    "# Input data files are available in the read-only \"../input/\" directory\n",
    "# For example, running this (by clicking run or pressing Shift+Enter) will list all files under the input directory\n",
    "\n",
    "import os\n",
    "for dirname, _, filenames in os.walk('/kaggle/input'):\n",
    "    for filename in filenames:\n",
    "        print(os.path.join(dirname, filename))\n",
    "\n",
    "# You can write up to 20GB to the current directory (/kaggle/working/) that gets preserved as output when you create a version using \"Save & Run All\" \n",
    "# You can also write temporary files to /kaggle/temp/, but they won't be saved outside of the current session"
   ]
  },
  {
   "cell_type": "code",
   "execution_count": 2,
   "id": "1c52278f",
   "metadata": {
    "execution": {
     "iopub.execute_input": "2023-03-03T19:43:05.323971Z",
     "iopub.status.busy": "2023-03-03T19:43:05.323406Z",
     "iopub.status.idle": "2023-03-03T19:43:05.428053Z",
     "shell.execute_reply": "2023-03-03T19:43:05.426504Z"
    },
    "papermill": {
     "duration": 0.11137,
     "end_time": "2023-03-03T19:43:05.430651",
     "exception": false,
     "start_time": "2023-03-03T19:43:05.319281",
     "status": "completed"
    },
    "tags": []
   },
   "outputs": [],
   "source": [
    "genres = pd.read_csv(\"/kaggle/input/modul9/tmdb_genres.csv\", names=['genre_id', 'genres'], header = None)\n",
    "movies = pd.read_csv(\"/kaggle/input/modul9/tmdb_movies.csv\", index_col=[0])\n",
    "#genres.head()\n",
    "#movies.head()\n"
   ]
  },
  {
   "cell_type": "code",
   "execution_count": 3,
   "id": "bfeaf3ff",
   "metadata": {
    "execution": {
     "iopub.execute_input": "2023-03-03T19:43:05.437923Z",
     "iopub.status.busy": "2023-03-03T19:43:05.437574Z",
     "iopub.status.idle": "2023-03-03T19:43:05.471604Z",
     "shell.execute_reply": "2023-03-03T19:43:05.470109Z"
    },
    "papermill": {
     "duration": 0.040635,
     "end_time": "2023-03-03T19:43:05.474260",
     "exception": false,
     "start_time": "2023-03-03T19:43:05.433625",
     "status": "completed"
    },
    "tags": []
   },
   "outputs": [
    {
     "data": {
      "text/html": [
       "<div>\n",
       "<style scoped>\n",
       "    .dataframe tbody tr th:only-of-type {\n",
       "        vertical-align: middle;\n",
       "    }\n",
       "\n",
       "    .dataframe tbody tr th {\n",
       "        vertical-align: top;\n",
       "    }\n",
       "\n",
       "    .dataframe thead th {\n",
       "        text-align: right;\n",
       "    }\n",
       "</style>\n",
       "<table border=\"1\" class=\"dataframe\">\n",
       "  <thead>\n",
       "    <tr style=\"text-align: right;\">\n",
       "      <th></th>\n",
       "      <th>vote_average</th>\n",
       "      <th>vote_count</th>\n",
       "    </tr>\n",
       "  </thead>\n",
       "  <tbody>\n",
       "    <tr>\n",
       "      <th>1881</th>\n",
       "      <td>8.5</td>\n",
       "      <td>8205</td>\n",
       "    </tr>\n",
       "    <tr>\n",
       "      <th>3337</th>\n",
       "      <td>8.4</td>\n",
       "      <td>5893</td>\n",
       "    </tr>\n",
       "    <tr>\n",
       "      <th>662</th>\n",
       "      <td>8.3</td>\n",
       "      <td>9413</td>\n",
       "    </tr>\n",
       "    <tr>\n",
       "      <th>1818</th>\n",
       "      <td>8.3</td>\n",
       "      <td>4329</td>\n",
       "    </tr>\n",
       "    <tr>\n",
       "      <th>2294</th>\n",
       "      <td>8.3</td>\n",
       "      <td>3840</td>\n",
       "    </tr>\n",
       "    <tr>\n",
       "      <th>2731</th>\n",
       "      <td>8.3</td>\n",
       "      <td>3338</td>\n",
       "    </tr>\n",
       "    <tr>\n",
       "      <th>3232</th>\n",
       "      <td>8.3</td>\n",
       "      <td>8428</td>\n",
       "    </tr>\n",
       "    <tr>\n",
       "      <th>3865</th>\n",
       "      <td>8.3</td>\n",
       "      <td>4254</td>\n",
       "    </tr>\n",
       "    <tr>\n",
       "      <th>65</th>\n",
       "      <td>8.2</td>\n",
       "      <td>12002</td>\n",
       "    </tr>\n",
       "    <tr>\n",
       "      <th>690</th>\n",
       "      <td>8.2</td>\n",
       "      <td>4048</td>\n",
       "    </tr>\n",
       "  </tbody>\n",
       "</table>\n",
       "</div>"
      ],
      "text/plain": [
       "      vote_average  vote_count\n",
       "1881           8.5        8205\n",
       "3337           8.4        5893\n",
       "662            8.3        9413\n",
       "1818           8.3        4329\n",
       "2294           8.3        3840\n",
       "2731           8.3        3338\n",
       "3232           8.3        8428\n",
       "3865           8.3        4254\n",
       "65             8.2       12002\n",
       "690            8.2        4048"
      ]
     },
     "execution_count": 3,
     "metadata": {},
     "output_type": "execute_result"
    }
   ],
   "source": [
    "#Lista 10 najwyżej ocenianych filmów (vote_average), których liczba głosów (vote_count) jest większa od 3. kwartyla rozkładu liczby głosów.\n",
    "\n",
    "q3 = movies.vote_count.quantile(0.75)\n",
    "movies.loc[(movies.vote_count >q3), ['vote_average', 'vote_count']].nlargest(10, 'vote_average')"
   ]
  },
  {
   "cell_type": "code",
   "execution_count": 4,
   "id": "fc83f081",
   "metadata": {
    "execution": {
     "iopub.execute_input": "2023-03-03T19:43:05.482178Z",
     "iopub.status.busy": "2023-03-03T19:43:05.481773Z",
     "iopub.status.idle": "2023-03-03T19:43:05.513341Z",
     "shell.execute_reply": "2023-03-03T19:43:05.511999Z"
    },
    "papermill": {
     "duration": 0.03798,
     "end_time": "2023-03-03T19:43:05.515530",
     "exception": false,
     "start_time": "2023-03-03T19:43:05.477550",
     "status": "completed"
    },
    "tags": []
   },
   "outputs": [
    {
     "name": "stderr",
     "output_type": "stream",
     "text": [
      "/opt/conda/lib/python3.7/site-packages/ipykernel_launcher.py:4: FutureWarning: Indexing with multiple keys (implicitly converted to a tuple of keys) will be deprecated, use a list instead.\n",
      "  after removing the cwd from sys.path.\n"
     ]
    },
    {
     "data": {
      "text/html": [
       "<div>\n",
       "<style scoped>\n",
       "    .dataframe tbody tr th:only-of-type {\n",
       "        vertical-align: middle;\n",
       "    }\n",
       "\n",
       "    .dataframe tbody tr th {\n",
       "        vertical-align: top;\n",
       "    }\n",
       "\n",
       "    .dataframe thead th {\n",
       "        text-align: right;\n",
       "    }\n",
       "</style>\n",
       "<table border=\"1\" class=\"dataframe\">\n",
       "  <thead>\n",
       "    <tr style=\"text-align: right;\">\n",
       "      <th></th>\n",
       "      <th>budget</th>\n",
       "      <th>revenue</th>\n",
       "    </tr>\n",
       "    <tr>\n",
       "      <th>release_date</th>\n",
       "      <th></th>\n",
       "      <th></th>\n",
       "    </tr>\n",
       "  </thead>\n",
       "  <tbody>\n",
       "    <tr>\n",
       "      <th>2010</th>\n",
       "      <td>7761467461</td>\n",
       "      <td>20348574768</td>\n",
       "    </tr>\n",
       "    <tr>\n",
       "      <th>2011</th>\n",
       "      <td>7754227435</td>\n",
       "      <td>20516921160</td>\n",
       "    </tr>\n",
       "    <tr>\n",
       "      <th>2012</th>\n",
       "      <td>7263782654</td>\n",
       "      <td>24141710246</td>\n",
       "    </tr>\n",
       "    <tr>\n",
       "      <th>2013</th>\n",
       "      <td>8205880834</td>\n",
       "      <td>23411493295</td>\n",
       "    </tr>\n",
       "    <tr>\n",
       "      <th>2014</th>\n",
       "      <td>7368453311</td>\n",
       "      <td>24120490589</td>\n",
       "    </tr>\n",
       "    <tr>\n",
       "      <th>2015</th>\n",
       "      <td>6724547367</td>\n",
       "      <td>22775024221</td>\n",
       "    </tr>\n",
       "    <tr>\n",
       "      <th>2016</th>\n",
       "      <td>4753140000</td>\n",
       "      <td>14461156948</td>\n",
       "    </tr>\n",
       "  </tbody>\n",
       "</table>\n",
       "</div>"
      ],
      "text/plain": [
       "                  budget      revenue\n",
       "release_date                         \n",
       "2010          7761467461  20348574768\n",
       "2011          7754227435  20516921160\n",
       "2012          7263782654  24141710246\n",
       "2013          8205880834  23411493295\n",
       "2014          7368453311  24120490589\n",
       "2015          6724547367  22775024221\n",
       "2016          4753140000  14461156948"
      ]
     },
     "execution_count": 4,
     "metadata": {},
     "output_type": "execute_result"
    }
   ],
   "source": [
    "#Obliczenie przychodow i budzetu w latach 2010 -2016\n",
    "movies.release_date = pd.to_datetime(movies.release_date, format='%Y-%m-%d')\n",
    "filtered = movies.loc[(movies.release_date>='2010-01-01') & (movies.release_date<='2016-12-31'), ['budget', 'revenue', 'release_date']]\n",
    "grouped = filtered.groupby(filtered.release_date.dt.year)['budget', 'revenue'].sum()\n",
    "grouped"
   ]
  },
  {
   "cell_type": "code",
   "execution_count": 5,
   "id": "fb8fee88",
   "metadata": {
    "execution": {
     "iopub.execute_input": "2023-03-03T19:43:05.523803Z",
     "iopub.status.busy": "2023-03-03T19:43:05.523415Z",
     "iopub.status.idle": "2023-03-03T19:43:05.701708Z",
     "shell.execute_reply": "2023-03-03T19:43:05.700846Z"
    },
    "papermill": {
     "duration": 0.18463,
     "end_time": "2023-03-03T19:43:05.703609",
     "exception": false,
     "start_time": "2023-03-03T19:43:05.518979",
     "status": "completed"
    },
    "tags": []
   },
   "outputs": [
    {
     "data": {
      "text/plain": [
       "<matplotlib.legend.Legend at 0x7f410b9fed90>"
      ]
     },
     "execution_count": 5,
     "metadata": {},
     "output_type": "execute_result"
    },
    {
     "data": {
      "image/png": "[encoded data removed]",
      "text/plain": [
       "<Figure size 432x288 with 1 Axes>"
      ]
     },
     "metadata": {
      "needs_background": "light"
     },
     "output_type": "display_data"
    }
   ],
   "source": [
    "#Wykres dla uzyskanych przychodow i budzetu w latach 2010-2016\n",
    "fig, ax = plt.subplots()\n",
    "years = [2010, 2011, 2012, 2013, 2014, 2015, 2016]\n",
    "y1 = grouped.budget\n",
    "y2 = grouped.revenue\n",
    "ax.plot(years, y1, color='red', label='budżet')\n",
    "ax.bar(years, y2, color='blue', width=0.7, label='przychod')\n",
    "def million(x, pos):\n",
    "    return 'PLN {:2.1f}M'.format(x*1e-6)\n",
    "formatter = plt.FuncFormatter(million)\n",
    "ax.yaxis.set_major_formatter(formatter)\n",
    "ax.set_title('Średni przychod i budżet filmu w latach 2010-2016')\n",
    "ax.legend(loc=0)"
   ]
  },
  {
   "cell_type": "code",
   "execution_count": 6,
   "id": "a5b3c9d0",
   "metadata": {
    "execution": {
     "iopub.execute_input": "2023-03-03T19:43:05.712331Z",
     "iopub.status.busy": "2023-03-03T19:43:05.711756Z",
     "iopub.status.idle": "2023-03-03T19:43:05.728649Z",
     "shell.execute_reply": "2023-03-03T19:43:05.726861Z"
    },
    "papermill": {
     "duration": 0.024239,
     "end_time": "2023-03-03T19:43:05.731490",
     "exception": false,
     "start_time": "2023-03-03T19:43:05.707251",
     "status": "completed"
    },
    "tags": []
   },
   "outputs": [],
   "source": [
    "#Połączenie dwoch baz danych: movies i genres\n",
    "merged = pd.merge(movies, genres, \n",
    "                  how=\"left\", on = \"genre_id\")\n",
    "#merged.head()\n"
   ]
  },
  {
   "cell_type": "code",
   "execution_count": 7,
   "id": "1ba7c41d",
   "metadata": {
    "execution": {
     "iopub.execute_input": "2023-03-03T19:43:05.740719Z",
     "iopub.status.busy": "2023-03-03T19:43:05.740310Z",
     "iopub.status.idle": "2023-03-03T19:43:05.751152Z",
     "shell.execute_reply": "2023-03-03T19:43:05.749956Z"
    },
    "papermill": {
     "duration": 0.017757,
     "end_time": "2023-03-03T19:43:05.753213",
     "exception": false,
     "start_time": "2023-03-03T19:43:05.735456",
     "status": "completed"
    },
    "tags": []
   },
   "outputs": [
    {
     "data": {
      "text/plain": [
       "Drama              1207\n",
       "Comedy             1042\n",
       "Action              754\n",
       "Adventure           339\n",
       "Horror              300\n",
       "Crime               195\n",
       "Thriller            194\n",
       "Animation           123\n",
       "Fantasy             117\n",
       "Romance             106\n",
       "Science Fiction      96\n",
       "Documentary          89\n",
       "Family               56\n",
       "Mystery              41\n",
       "Music                34\n",
       "genres               28\n",
       "Western              27\n",
       "History              25\n",
       "War                  24\n",
       "TV Movie              4\n",
       "Foreign               2\n",
       "Name: genres, dtype: int64"
      ]
     },
     "execution_count": 7,
     "metadata": {},
     "output_type": "execute_result"
    }
   ],
   "source": [
    "merged['genres'].value_counts()"
   ]
  },
  {
   "cell_type": "code",
   "execution_count": 8,
   "id": "a1a9e5b6",
   "metadata": {
    "execution": {
     "iopub.execute_input": "2023-03-03T19:43:05.762773Z",
     "iopub.status.busy": "2023-03-03T19:43:05.762365Z",
     "iopub.status.idle": "2023-03-03T19:43:05.773852Z",
     "shell.execute_reply": "2023-03-03T19:43:05.772610Z"
    },
    "papermill": {
     "duration": 0.019062,
     "end_time": "2023-03-03T19:43:05.776146",
     "exception": false,
     "start_time": "2023-03-03T19:43:05.757084",
     "status": "completed"
    },
    "tags": []
   },
   "outputs": [
    {
     "data": {
      "text/plain": [
       "genres\n",
       "History            133.960000\n",
       "War                126.125000\n",
       "Western            117.925926\n",
       "Drama              115.521559\n",
       "Adventure          113.061947\n",
       "Crime              112.143590\n",
       "TV Movie           110.500000\n",
       "Action             109.058355\n",
       "Science Fiction    109.031250\n",
       "Romance            107.094340\n",
       "Fantasy            106.487179\n",
       "Thriller           105.690722\n",
       "Music              102.852941\n",
       "Mystery            100.609756\n",
       "Comedy             100.464491\n",
       "Horror              94.753333\n",
       "Documentary         93.511364\n",
       "Family              89.803571\n",
       "Animation           89.552846\n",
       "Foreign             83.000000\n",
       "genres              50.392857\n",
       "Name: runtime, dtype: float64"
      ]
     },
     "execution_count": 8,
     "metadata": {},
     "output_type": "execute_result"
    }
   ],
   "source": [
    "#Sortowanie gatunkow filmow wzgledem ich sredniego czasu trwania\n",
    "merged.groupby(['genres'])['runtime'].mean().sort_values(ascending=False)"
   ]
  },
  {
   "cell_type": "code",
   "execution_count": 9,
   "id": "14ba5cfb",
   "metadata": {
    "execution": {
     "iopub.execute_input": "2023-03-03T19:43:05.786752Z",
     "iopub.status.busy": "2023-03-03T19:43:05.785302Z",
     "iopub.status.idle": "2023-03-03T19:43:05.948046Z",
     "shell.execute_reply": "2023-03-03T19:43:05.946824Z"
    },
    "papermill": {
     "duration": 0.170038,
     "end_time": "2023-03-03T19:43:05.950277",
     "exception": false,
     "start_time": "2023-03-03T19:43:05.780239",
     "status": "completed"
    },
    "tags": []
   },
   "outputs": [
    {
     "data": {
      "text/plain": [
       "(array([2., 3., 5., 8., 4., 0., 0., 2., 0., 1.]),\n",
       " array([ 84. ,  98.1, 112.2, 126.3, 140.4, 154.5, 168.6, 182.7, 196.8,\n",
       "        210.9, 225. ]),\n",
       " <BarContainer object of 10 artists>)"
      ]
     },
     "execution_count": 9,
     "metadata": {},
     "output_type": "execute_result"
    },
    {
     "data": {
      "image/png": "[encoded data removed]",
      "text/plain": [
       "<Figure size 432x288 with 1 Axes>"
      ]
     },
     "metadata": {
      "needs_background": "light"
     },
     "output_type": "display_data"
    }
   ],
   "source": [
    "#Histogram dla gatunku filmow, ktore srednio trwaja najdluzej\n",
    "genre_history=merged[merged.genres==\"History\"]\n",
    "plt.hist(genre_history.runtime)"
   ]
  }
 ],
 "metadata": {
  "kernelspec": {
   "display_name": "Python 3",
   "language": "python",
   "name": "python3"
  },
  "language_info": {
   "codemirror_mode": {
    "name": "ipython",
    "version": 3
   },
   "file_extension": ".py",
   "mimetype": "text/x-python",
   "name": "python",
   "nbconvert_exporter": "python",
   "pygments_lexer": "ipython3",
   "version": "3.7.12"
  },
  "papermill": {
   "default_parameters": {},
   "duration": 10.213637,
   "end_time": "2023-03-03T19:43:06.576174",
   "environment_variables": {},
   "exception": null,
   "input_path": "__notebook__.ipynb",
   "output_path": "__notebook__.ipynb",
   "parameters": {},
   "start_time": "2023-03-03T19:42:56.362537",
   "version": "2.3.4"
  }
 },
 "nbformat": 4,
 "nbformat_minor": 5
}
